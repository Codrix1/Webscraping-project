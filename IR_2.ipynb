{
  "cells": [
    {
      "cell_type": "code",
      "execution_count": 5,
      "metadata": {
        "id": "GjziYmJc0DS7"
      },
      "outputs": [],
      "source": [
        "from bs4 import BeautifulSoup\n",
        "import requests\n",
        "import csv\n",
        "import time\n",
        "import numpy as np\n",
        "import pandas as pd"
      ]
    },
    {
      "cell_type": "code",
      "execution_count": 2,
      "metadata": {
        "id": "1B8me_wFRcwG"
      },
      "outputs": [],
      "source": [
        "car_groups = [\"car\", \"imported-car\"]"
      ]
    },
    {
      "cell_type": "code",
      "source": [
        "import pandas as pd"
      ],
      "metadata": {
        "id": "PfTcLhsYAlMx"
      },
      "execution_count": 3,
      "outputs": []
    },
    {
      "cell_type": "code",
      "execution_count": 91,
      "metadata": {
        "outputId": "42adba42-36ec-4f47-ef48-c8767c6dd1b5",
        "colab": {
          "base_uri": "https://localhost:8080/"
        },
        "id": "S8l0A5pFbd3q",
        "collapsed": true
      },
      "outputs": [
        {
          "output_type": "stream",
          "name": "stdout",
          "text": [
            "200\n",
            "200\n",
            "200\n",
            "200\n",
            "200\n",
            "200\n",
            "200\n",
            "200\n",
            "200\n",
            "200\n",
            "200\n",
            "200\n",
            "200\n",
            "200\n",
            "200\n",
            "200\n",
            "200\n",
            "200\n",
            "200\n",
            "200\n",
            "200\n",
            "200\n",
            "200\n",
            "200\n",
            "200\n",
            "200\n",
            "200\n",
            "200\n",
            "200\n",
            "200\n",
            "200\n",
            "200\n",
            "200\n",
            "200\n",
            "200\n",
            "200\n",
            "200\n",
            "200\n",
            "200\n",
            "200\n",
            "200\n",
            "[['Low KM', 'Financed', 'Imported', 'Hybrid'], ['Low KM'], ['Low KM', 'Financed'], [], ['Low KM', 'Financed', 'Imported'], [], ['Low KM'], ['Financed'], ['Financed'], [], [], [], [], [], [], [], [], [], [], [], ['Financed'], [], [], [], [], [], [], [], [], [], [], [], [], [], [], [], [], [], [], []]\n",
            "['Skoda Superb 2023', 'Dongfeng Huge 2024', 'Land Rover Velar 2024', 'Suzuki Ertiga 2016', 'Mercedes CLA 200 2024', 'Renault Duster 2019', 'Jac S2 2024 \\n\\n\\nVerified User', 'Jeep Grand Cherokee 2014', 'Mercedes GLC 200 2023', 'Chevrolet Cruze 2015', 'Fiat Regata 1985', 'Kia Sportage 2021', 'Renault Logan 2013', 'Jetour X70 2020', 'Renault Duster 2022', 'Nissan Sentra 2022', 'Chery Tiggo 3 2022', 'Nissan Sunny 2021', 'Chevrolet Optra 2013', 'Mitsubishi Pajero 2016', 'Nissan Sentra 2020', 'Chevrolet Optra 2011', 'Kia Sephia 1999', 'Mitsubishi Lancer EX Shark 2015', 'Toyota Corolla 2020', 'Renault Duster 2018', 'Renault Logan 2020', 'MG 6 2021', 'Chevrolet Optra 2022', 'Speranza A213 2008', 'Opel Astra 2008', 'Kia Pride 1999', 'BMW X2 2019', 'Jac A13 2009 \\n\\n\\nVerified User', 'MG 5 2021', 'Skoda Octavia A4 2009', 'Fiat Punto 2011', 'Seat Leon 2015', 'Mazda 3 2019', 'Chevrolet Aveo 2016']\n",
            "200\n",
            "200\n",
            "200\n",
            "200\n",
            "200\n",
            "200\n",
            "200\n",
            "200\n",
            "200\n",
            "200\n",
            "200\n",
            "200\n",
            "200\n",
            "200\n",
            "200\n",
            "200\n",
            "200\n",
            "200\n",
            "200\n",
            "200\n",
            "200\n",
            "200\n",
            "200\n",
            "200\n",
            "200\n",
            "200\n",
            "200\n",
            "200\n",
            "200\n",
            "200\n",
            "200\n",
            "[['Low KM', 'Financed', 'Imported', 'Hybrid'], ['Low KM', 'Financed', 'Imported'], ['Imported'], ['Financed', 'Imported'], ['Financed', 'Imported'], ['Low KM', 'Financed', 'Imported'], ['Financed', 'Imported'], ['Low KM', 'Financed', 'Imported'], ['Low KM', 'Financed', 'Imported'], ['Low KM', 'Financed', 'Imported'], ['Imported'], ['Low KM', 'Imported'], ['Disabled', 'To be imported'], ['Imported'], ['Financed', 'Imported'], ['Imported'], ['Low KM', 'Imported', 'Electric'], ['Low KM', 'Financed', 'Imported', 'Electric'], ['Imported'], ['Imported'], ['Low KM', 'Imported'], ['Imported'], ['Low KM', 'To be imported'], ['Low KM', 'Imported'], ['Low KM', 'Imported'], ['Low KM', 'Imported'], ['Low KM', 'Imported'], ['Financed', 'Imported'], ['Low KM', 'Financed', 'Imported'], ['Imported']]\n",
            "['Skoda Superb 2023', 'Mercedes CLA 200 2024', 'Renault Megane 2019', 'Mercedes E 200 2023', 'Mercedes 350 2023', 'Mercedes GLA 2024', 'Mercedes A 200 2023', 'Land Rover Velar 2024', 'Mercedes GLC 200 AMG Imported 2024', 'Mercedes CLA 200 2024', 'Mercedes GLC 200 2024', 'Hyundai Tucson 2023', 'Kia Sportage 2023', 'Mercedes C 180 2018', 'Hyundai Accent RB 2024', 'Mercedes C 180 2022', 'Kia EV6 2024', 'Volkswagen ID 4 2023', 'Mercedes CLA 200 2023', 'Skoda Kodiaq 2025', 'Mercedes E 200 AMG 2024', 'Hyundai Elantra AD 2017', 'Mercedes C 200 2023', 'BMW 520 2023', 'Toyota Fortuner 2024', 'Mercedes GLA 2024', 'Hyundai Tucson 2024', 'Land Rover Range Rover Evoque 2023', 'Skoda Kodiaq 2024', 'Land Rover Range Rover Sport 2023']\n"
          ]
        }
      ],
      "source": [
        "def scrap_cars(name):\n",
        "  car_names = []\n",
        "  car_prices = []\n",
        "  car_KMs = []\n",
        "  car_location = []\n",
        "  Meta_Tags = []\n",
        "  Sub_Meta_tags = []\n",
        "  car_images = []\n",
        "  other_data = []\n",
        "  car_link = []\n",
        "  car_color = []\n",
        "  car_review = []\n",
        "  car_category = []\n",
        "  car_company = []\n",
        "  for i in range(1, 2):\n",
        "      time.sleep(5)\n",
        "      page_to_scrape = requests.get(f\"https://eg.hatla2ee.com/en/{name}/page/\"+ str(i))\n",
        "      print(page_to_scrape.status_code)\n",
        "      soup = BeautifulSoup(page_to_scrape.text, 'html.parser')\n",
        "      car_conatiner = soup.findAll('div', {'class': 'newCarListUnit_contain'})\n",
        "      for car in car_conatiner:\n",
        "\n",
        "        car_names.append(car.find('div', {'class': 'newCarListUnit_header'}).text.strip())\n",
        "\n",
        "        car_prices.append(car.find('div', {'class': 'main_price'}).text.strip())\n",
        "\n",
        "        url = car.find('a').get('href')\n",
        "\n",
        "        car_link.append(url)\n",
        "\n",
        "        car_page = requests.get(f\"https://eg.hatla2ee.com/{url}\")\n",
        "        car_p = BeautifulSoup(car_page.text, 'html.parser')\n",
        "        print(car_page.status_code)\n",
        "\n",
        "        car_category.append(car_p.findAll('span', {'property': 'name'})[1].text)\n",
        "\n",
        "        review = car_p.find('div', {'class': 'reviewsStarsWrap'})\n",
        "        try:\n",
        "          number = review.find('strong').text\n",
        "          car_review.append(number)\n",
        "        except:\n",
        "          car_review.append(None)\n",
        "\n",
        "        car_company.append(car.findAll('span', {'class': 'newCarListUnit_metaLink'})[0].text)\n",
        "\n",
        "        car_images.append(car.find('img', {'class': 'lazy'}).get(\"data-original\"))\n",
        "\n",
        "        original_list = car.find('div', {'class': 'newCarListUnit_metaTags'}).text.split(\"\\n\")\n",
        "        filtered_list = [x for x in original_list if x != \"\"]\n",
        "        car_location.append(filtered_list[-1])\n",
        "        car_KMs.append(filtered_list[-2])\n",
        "        car_color.append(filtered_list[2])\n",
        "        Meta_Tags.append(filtered_list)\n",
        "\n",
        "\n",
        "        original_list = car.find('div', {'class': 'newCarListUnit_subMetaTags'}).text.split(\"\\n\")\n",
        "        filtered_list = [x for x in original_list if x != \"\"]\n",
        "        Sub_Meta_tags.append(filtered_list)\n",
        "\n",
        "        Sub_other_data=[]\n",
        "        for x in car.findAll('i', {'class': 'tooltipDef'}):\n",
        "          Sub_other_data.append(x.get('title'))\n",
        "        other_data.append(Sub_other_data)\n",
        "\n",
        "  cars_scraped = [car_names , car_prices , car_review ,  car_category , car_images , car_company , car_KMs, car_location ,car_color]\n",
        "  df = pd.DataFrame({'CarName': car_names,\n",
        "                    'Price': car_prices,\n",
        "                    'Reviews': car_review,\n",
        "                    'Category': car_category,\n",
        "                    'CarImage':car_images,\n",
        "                    'CarCompany':car_company,\n",
        "                    })\n",
        "  df.to_excel(excel_writer = \"/content/sample_data/cars.xlsx\")\n",
        "  print(Sub_Meta_tags)\n",
        "  print(car_names)\n",
        "scrap_cars(\"car\")\n",
        "scrap_cars(\"imported-car\")"
      ]
    },
    {
      "cell_type": "code",
      "source": [],
      "metadata": {
        "id": "nNA8nm1YaUSJ"
      },
      "execution_count": 10,
      "outputs": []
    }
  ],
  "metadata": {
    "colab": {
      "provenance": []
    },
    "kernelspec": {
      "display_name": "Python 3",
      "name": "python3"
    },
    "language_info": {
      "codemirror_mode": {
        "name": "ipython",
        "version": 3
      },
      "file_extension": ".py",
      "mimetype": "text/x-python",
      "name": "python",
      "nbconvert_exporter": "python",
      "pygments_lexer": "ipython3",
      "version": "3.10.7"
    }
  },
  "nbformat": 4,
  "nbformat_minor": 0
}